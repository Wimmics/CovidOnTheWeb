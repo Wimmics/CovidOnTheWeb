{
 "cells": [
  {
   "cell_type": "markdown",
   "metadata": {},
   "source": [
    "# Access to the endpoint and data sources of CovidOnTheWeb dataset\n",
    "### maintaned by the [WIMMICS team](https://team.inria.fr/wimmics/)\n",
    "\n",
    "This notebook is intended to help a user to begin quering the CovidOnTheWeb dataset. \n",
    "\n",
    "The full description of the dataset can be found here: https://github.com/Wimmics/CovidOnTheWeb\n",
    "\n",
    "You can query the dataset from our Virtuoso endpoint: https://covidontheweb.inria.fr/sparql. \n",
    "\n",
    "The following named graphs can be queried from the SPARQL endpoint:\n",
    "\n",
    "- `http://ns.inria.fr/covid19/graph/metadata`: dataset description + definition of a few properties\n",
    "- `http://ns.inria.fr/covid19/graph/articles`: articles metadata (title, authors, DOIs, journal etc.)\n",
    "- `http://ns.inria.fr/covid19/graph/dbpedia-spotlight`: named entities identified by DBpedia Spotlight in articles titles/abstracts\n",
    "- `http://ns.inria.fr/covid19/graph/entityfishing`: named entities identified by Entity-fishing in articles titles/abstracts\n",
    "- `http://ns.inria.fr/covid19/graph/entityfishing/body`: named entities identified by Entity-fishing in articles bodies\n",
    "- `http://ns.inria.fr/covid19/graph/bioportal-annotator`: named entities identified by Bioportal Annotator in articles titles/abstracts\n",
    "- `http://ns.inria.fr/covid19/graph/acta`: argumentative components and PICO elements extracted by ACTA from articles titles/abstracts\n"
   ]
  },
  {
   "cell_type": "code",
   "execution_count": null,
   "metadata": {},
   "outputs": [],
   "source": [
    "from __future__ import print_function"
   ]
  },
  {
   "cell_type": "markdown",
   "metadata": {},
   "source": [
    "## Install required packages\n",
    "\n",
    "#### SPARQLWrapper \n",
    "\n",
    "This package helps to convert service output to a Pandas DataFrame. https://rdflib.dev/sparqlwrapper/\n",
    "\n",
    "#### Pandas\n",
    "\n",
    "Using Pandas DataFrame to contain the query results.\n",
    "\n",
    "\n",
    "NOTE: if you are runing Anaconda distribution the prefered way to install packages:\n",
    "\n",
    "_conda install -c conda-forge sparqlwrapper_\n",
    "\n",
    "_conda install pandas_\n",
    "\n",
    "Only run it once or periodically to check for the updates."
   ]
  },
  {
   "cell_type": "code",
   "execution_count": null,
   "metadata": {},
   "outputs": [],
   "source": [
    "!pip install pandas"
   ]
  },
  {
   "cell_type": "code",
   "execution_count": null,
   "metadata": {},
   "outputs": [],
   "source": [
    "!pip install SPARQLWrapper"
   ]
  },
  {
   "cell_type": "code",
   "execution_count": null,
   "metadata": {},
   "outputs": [],
   "source": [
    "import pandas as pd\n",
    "print('Pandas ver.', pd.__version__)\n",
    "\n",
    "import SPARQLWrapper\n",
    "import json\n",
    "print('SPARQLWrapper ver.', SPARQLWrapper.__version__)\n",
    "\n",
    "from SPARQLWrapper import SPARQLWrapper, JSON"
   ]
  },
  {
   "cell_type": "code",
   "execution_count": null,
   "metadata": {},
   "outputs": [],
   "source": [
    "def sparql_service_to_dataframe(service, query):\n",
    "    \"\"\"\n",
    "    Helper function to convert SPARQL results into a Pandas DataFrame.\n",
    "    \n",
    "    Credit to Ted Lawless https://lawlesst.github.io/notebook/sparql-dataframe.html\n",
    "    \"\"\"\n",
    "    sparql = SPARQLWrapper(service)\n",
    "    sparql.setQuery(query)\n",
    "    sparql.setReturnFormat(JSON)\n",
    "    result = sparql.query()\n",
    "\n",
    "    processed_results = json.load(result.response)\n",
    "    cols = processed_results['head']['vars']\n",
    "\n",
    "    out = []\n",
    "    for row in processed_results['results']['bindings']:\n",
    "        item = []\n",
    "        for c in cols:\n",
    "            item.append(row.get(c, {}).get('value'))\n",
    "        out.append(item)\n",
    "\n",
    "    return pd.DataFrame(out, columns=cols)\n"
   ]
  },
  {
   "cell_type": "markdown",
   "metadata": {},
   "source": [
    "# Run queries"
   ]
  },
  {
   "cell_type": "code",
   "execution_count": null,
   "metadata": {},
   "outputs": [],
   "source": [
    "wds_Corese_Covid = 'https://covidontheweb.inria.fr/sparql'"
   ]
  },
  {
   "cell_type": "markdown",
   "metadata": {},
   "source": [
    "### Simple query: select 10 articles with a reference to _coronavirus_"
   ]
  },
  {
   "cell_type": "code",
   "execution_count": null,
   "metadata": {},
   "outputs": [],
   "source": [
    "query = '''\n",
    "SELECT (group_concat(distinct ?name,\", \") AS ?authors)\n",
    "       ?title \n",
    "       (year(?date) as ?year)\n",
    "       ?pub\n",
    "       ?url\n",
    "from <http://ns.inria.fr/covid19/graph/articles>\n",
    "WHERE {\n",
    "    ?doc a ?t;\n",
    "        dce:creator ?name;\n",
    "        dct:title ?title;\n",
    "        schema:publication ?pub;\n",
    "        schema:url ?url;\n",
    "        dct:abstract [ rdf:value ?abs ].\n",
    "\n",
    "    optional { ?doc dct:issued ?date }\n",
    "    filter contains(?abs, \"coronavirus\")\n",
    "} \n",
    "group by ?doc ?title ?date ?pub ?url\n",
    "order by desc(?date)\n",
    "limit 10\n",
    "\n",
    "'''"
   ]
  },
  {
   "cell_type": "code",
   "execution_count": 66,
   "metadata": {},
   "outputs": [
    {
     "name": "stdout",
     "output_type": "stream",
     "text": [
      "Wall time: 1.07 s\n",
      "(10, 5)\n"
     ]
    }
   ],
   "source": [
    "%time df = sparql_service_to_dataframe(wds_Corese_Covid, query)\n",
    "print(df.shape)"
   ]
  },
  {
   "cell_type": "markdown",
   "metadata": {},
   "source": [
    "Visualize results as a table"
   ]
  },
  {
   "cell_type": "code",
   "execution_count": 67,
   "metadata": {
    "scrolled": false
   },
   "outputs": [
    {
     "data": {
      "text/html": [
       "<div>\n",
       "<style scoped>\n",
       "    .dataframe tbody tr th:only-of-type {\n",
       "        vertical-align: middle;\n",
       "    }\n",
       "\n",
       "    .dataframe tbody tr th {\n",
       "        vertical-align: top;\n",
       "    }\n",
       "\n",
       "    .dataframe thead th {\n",
       "        text-align: right;\n",
       "    }\n",
       "</style>\n",
       "<table border=\"1\" class=\"dataframe\">\n",
       "  <thead>\n",
       "    <tr style=\"text-align: right;\">\n",
       "      <th></th>\n",
       "      <th>authors</th>\n",
       "      <th>title</th>\n",
       "      <th>year</th>\n",
       "      <th>pub</th>\n",
       "      <th>url</th>\n",
       "    </tr>\n",
       "  </thead>\n",
       "  <tbody>\n",
       "    <tr>\n",
       "      <th>0</th>\n",
       "      <td>Khan, Gulfaraz, Sheek-Hussein, Mohamud</td>\n",
       "      <td>Chapter 8 The Middle East Respiratory Syndrome Coronavirus: An Emerging Virus of Global Threat</td>\n",
       "      <td>2020</td>\n",
       "      <td>Emerging and Reemerging Viral Pathogens</td>\n",
       "      <td>https://doi.org/10.1016/b978-0-12-819400-3.00008-9</td>\n",
       "    </tr>\n",
       "    <tr>\n",
       "      <th>1</th>\n",
       "      <td>Al, Hai, Bai, Chunxue, Bai, Li, Chen, Hong, Chen, Rongchang, Dong, Chunling, Han, Baohui, Jiang, Jinjun, Jiang, Yan, Jin, Yang, Li, Jing, Li, Qiang, Li, Shengqing, Liu, Jie, Ma, Xia, Powell, Charles, Qiu, Zhongmin, Shen, Yao, Shi, Guochao, Song, Yuanlin, Song, Zhenju, Sun, Jiayuan, Tan, Fei, Tapuyihai, Al, Tong, Lin, Tu, Chunlin, Wang, Changhui, Wang, Jiwei, Wang, Qi, Wang, Xiongbiao, Wang, Xun, Wang, Yaoli, Wang, Yuehong, Wu, Chaomin, Wu, Xueling, Xiao, Kui, Xu, Tao, Xu, Yu, Yang, Dawei, Ye, Maosong, Yu, Jinming, Yu, Wencheng, Zhang, Ding, Zhang, Lichuan, Zhang, Min, Zhang, Xiaoju, Zhang, Yong, Zhang, Ziqiang, Zhao, Lin, Zhong, Nanshan, Zhou, Jian, Zhou, Xin, Zhu, Huili, Zhu, Xiaodan</td>\n",
       "      <td>Chinese experts’ consensus on the Internet of Things-aided diagnosis and treatment of coronavirus disease 2019 (COVID-19)</td>\n",
       "      <td>2020</td>\n",
       "      <td>Clinical eHealth</td>\n",
       "      <td>https://doi.org/10.1016/j.ceh.2020.03.001</td>\n",
       "    </tr>\n",
       "    <tr>\n",
       "      <th>2</th>\n",
       "      <td>Compton, Susan, Macy, James</td>\n",
       "      <td>Chapter 13 Viral Disease</td>\n",
       "      <td>2020</td>\n",
       "      <td>The Laboratory Rat</td>\n",
       "      <td>https://doi.org/10.1016/b978-0-12-814338-4.00013-1</td>\n",
       "    </tr>\n",
       "    <tr>\n",
       "      <th>3</th>\n",
       "      <td>Ennaji, Youssef, Khataby, Khadija, Mustapha, Moulay</td>\n",
       "      <td>Chapter 3 Infectious Bronchitis Virus in Poultry: Molecular Epidemiology and Factors Leading to the Emergence and Reemergence of Novel Strains of Infectious Bronchitis Virus</td>\n",
       "      <td>2020</td>\n",
       "      <td>Emerging and Reemerging Viral Pathogens</td>\n",
       "      <td>https://doi.org/10.1016/b978-0-12-814966-9.00003-2</td>\n",
       "    </tr>\n",
       "    <tr>\n",
       "      <th>4</th>\n",
       "      <td>Kasmi, Yassine, Khataby, Khadija, Mustapha, Moulay, Souiri, Amal</td>\n",
       "      <td>Chapter 7 Coronaviridae: 100,000 Years of Emergence and Reemergence</td>\n",
       "      <td>2020</td>\n",
       "      <td>Emerging and Reemerging Viral Pathogens</td>\n",
       "      <td>https://doi.org/10.1016/b978-0-12-819400-3.00007-7</td>\n",
       "    </tr>\n",
       "  </tbody>\n",
       "</table>\n",
       "</div>"
      ],
      "text/plain": [
       "                                                                                                                                                                                                                                                                                                                                                                                                                                                                                                                                                                                                                                                                                                                 authors  \\\n",
       "0                                                                                                                                                                                                                                                                                                                                                                                                                                                                                                                                                                                                                                                                                 Khan, Gulfaraz, Sheek-Hussein, Mohamud   \n",
       "1  Al, Hai, Bai, Chunxue, Bai, Li, Chen, Hong, Chen, Rongchang, Dong, Chunling, Han, Baohui, Jiang, Jinjun, Jiang, Yan, Jin, Yang, Li, Jing, Li, Qiang, Li, Shengqing, Liu, Jie, Ma, Xia, Powell, Charles, Qiu, Zhongmin, Shen, Yao, Shi, Guochao, Song, Yuanlin, Song, Zhenju, Sun, Jiayuan, Tan, Fei, Tapuyihai, Al, Tong, Lin, Tu, Chunlin, Wang, Changhui, Wang, Jiwei, Wang, Qi, Wang, Xiongbiao, Wang, Xun, Wang, Yaoli, Wang, Yuehong, Wu, Chaomin, Wu, Xueling, Xiao, Kui, Xu, Tao, Xu, Yu, Yang, Dawei, Ye, Maosong, Yu, Jinming, Yu, Wencheng, Zhang, Ding, Zhang, Lichuan, Zhang, Min, Zhang, Xiaoju, Zhang, Yong, Zhang, Ziqiang, Zhao, Lin, Zhong, Nanshan, Zhou, Jian, Zhou, Xin, Zhu, Huili, Zhu, Xiaodan   \n",
       "2                                                                                                                                                                                                                                                                                                                                                                                                                                                                                                                                                                                                                                                                                            Compton, Susan, Macy, James   \n",
       "3                                                                                                                                                                                                                                                                                                                                                                                                                                                                                                                                                                                                                                                                    Ennaji, Youssef, Khataby, Khadija, Mustapha, Moulay   \n",
       "4                                                                                                                                                                                                                                                                                                                                                                                                                                                                                                                                                                                                                                                       Kasmi, Yassine, Khataby, Khadija, Mustapha, Moulay, Souiri, Amal   \n",
       "\n",
       "                                                                                                                                                                           title  \\\n",
       "0                                                                                 Chapter 8 The Middle East Respiratory Syndrome Coronavirus: An Emerging Virus of Global Threat   \n",
       "1                                                      Chinese experts’ consensus on the Internet of Things-aided diagnosis and treatment of coronavirus disease 2019 (COVID-19)   \n",
       "2                                                                                                                                                       Chapter 13 Viral Disease   \n",
       "3  Chapter 3 Infectious Bronchitis Virus in Poultry: Molecular Epidemiology and Factors Leading to the Emergence and Reemergence of Novel Strains of Infectious Bronchitis Virus   \n",
       "4                                                                                                            Chapter 7 Coronaviridae: 100,000 Years of Emergence and Reemergence   \n",
       "\n",
       "   year                                      pub  \\\n",
       "0  2020  Emerging and Reemerging Viral Pathogens   \n",
       "1  2020                         Clinical eHealth   \n",
       "2  2020                       The Laboratory Rat   \n",
       "3  2020  Emerging and Reemerging Viral Pathogens   \n",
       "4  2020  Emerging and Reemerging Viral Pathogens   \n",
       "\n",
       "                                                  url  \n",
       "0  https://doi.org/10.1016/b978-0-12-819400-3.00008-9  \n",
       "1           https://doi.org/10.1016/j.ceh.2020.03.001  \n",
       "2  https://doi.org/10.1016/b978-0-12-814338-4.00013-1  \n",
       "3  https://doi.org/10.1016/b978-0-12-814966-9.00003-2  \n",
       "4  https://doi.org/10.1016/b978-0-12-819400-3.00007-7  "
      ]
     },
     "execution_count": 67,
     "metadata": {},
     "output_type": "execute_result"
    }
   ],
   "source": [
    "pd.set_option('display.max_colwidth', None)\n",
    "pd.set_option('display.precision', 3)\n",
    "pd.set_option('display.max_rows', 9999)\n",
    "\n",
    "df.head()"
   ]
  },
  {
   "cell_type": "markdown",
   "metadata": {},
   "source": [
    "### Query Named Entities: select articles that co-mention _cancers_ and _coronaviruses_"
   ]
  },
  {
   "cell_type": "code",
   "execution_count": null,
   "metadata": {},
   "outputs": [],
   "source": [
    "query_corona_vs_cancer = '''\n",
    "prefix oa:     <http://www.w3.org/ns/oa#>\n",
    "prefix schema: <http://schema.org/>\n",
    "prefix rdfs:   <http://www.w3.org/2000/01/rdf-schema#>\n",
    "\n",
    "prefix wd:     <http://www.wikidata.org/entity/>\n",
    "prefix wdt:    <http://www.wikidata.org/prop/direct/>\n",
    "\n",
    "# wdt:P279 = subclass of \n",
    "# wdt:P31 = instance of\n",
    "# wd:Q12078 = cancer\n",
    "# wd:Q1134583 = coronavirus family = Coronaviridae\n",
    "\n",
    "select distinct ?article ?dis1 ?dis1Label ?dis2 ?dis2Label #?dis2Subject\n",
    "\n",
    "from <http://ns.inria.fr/covid19/graph/entityfishing>\n",
    "from named <http://ns.inria.fr/covid19/graph/wikidata-named-entities>\n",
    "\n",
    "where {\n",
    "    # Look for 2 annotations of the same article with Wikidata URIs ?dis1 and ?dis2 \n",
    "\n",
    "    ?annot1 schema:about ?article; oa:hasBody ?dis1.\n",
    "    ?annot2 schema:about ?article; oa:hasBody ?dis2.\n",
    " \n",
    "    graph <http://ns.inria.fr/covid19/graph/wikidata-named-entities>\n",
    "    {\n",
    "      ?entity1 rdfs:label \"cancer\"@en. # ?entity1 is wd:Q12078\n",
    "      \n",
    "      { ?dis1 rdfs:label ?dis1Label.\n",
    "        filter (?dis1 = ?entity1) } # ?dis1 is \"cancer\"\n",
    "\n",
    "      UNION\n",
    "\n",
    "      { ?dis1 wdt:P279 ?entity1;\n",
    "              rdfs:label ?dis1Label. }  # ?dis1 is a subclass of \"cancer\" (at any depth)\n",
    "\n",
    "      UNION\n",
    "\n",
    "      { ?dis1 wdt:P31 ?entity1; \n",
    "              rdfs:label ?dis1Label. }  # ?dis1 is an instance of \"cancer\" or a subclass thereof\n",
    "\n",
    "\n",
    "\n",
    "      ?entity2 rdfs:label \"Coronaviridae\"@en. # ?entity2 is wd:Q1134583\n",
    "\n",
    "      { ?dis2 rdfs:label ?dis2Label. \n",
    "      filter (?dis2 = ?entity2) }\n",
    "\n",
    "      UNION\n",
    "\n",
    "      { ?dis2 wdt:P279 ?entity2;\n",
    "              rdfs:label ?dis2Label. } # ?dis2 is a subclass of \"Coronaviridae\" (at any depth)\n",
    "\n",
    "      UNION\n",
    "\n",
    "      { ?dis2 wdt:P31 ?entity2; \n",
    "              rdfs:label ?dis2Label. }  # ?dis2 is an instance of \"Coronaviridae\" or a subclass thereof\n",
    "\n",
    "    }\n",
    "\n",
    "    \n",
    "}\n",
    "order by ?dis1 ?dis2\n",
    "limit 1000\n",
    "'''"
   ]
  },
  {
   "cell_type": "code",
   "execution_count": 68,
   "metadata": {},
   "outputs": [
    {
     "name": "stdout",
     "output_type": "stream",
     "text": [
      "Wall time: 3.75 s\n",
      "(153, 5)\n"
     ]
    }
   ],
   "source": [
    "%time df = sparql_service_to_dataframe(wds_Corese_Covid, query_corona_vs_cancer)\n",
    "print(df.shape)"
   ]
  },
  {
   "cell_type": "markdown",
   "metadata": {},
   "source": [
    "Visualize results as a clustermap"
   ]
  },
  {
   "cell_type": "code",
   "execution_count": 69,
   "metadata": {},
   "outputs": [
    {
     "data": {
      "text/plain": [
       "Text(832.8749999999999, 0.5, 'cancers')"
      ]
     },
     "execution_count": 69,
     "metadata": {},
     "output_type": "execute_result"
    },
    {
     "data": {
      "text/plain": [
       "<Figure size 1296x288 with 0 Axes>"
      ]
     },
     "metadata": {},
     "output_type": "display_data"
    },
    {
     "data": {
      "image/png": "[encoded data removed]",
      "text/plain": [
       "<Figure size 720x720 with 4 Axes>"
      ]
     },
     "metadata": {
      "needs_background": "light"
     },
     "output_type": "display_data"
    }
   ],
   "source": [
    "import matplotlib.pyplot as plt\n",
    "import seaborn as sns\n",
    "from collections import Counter\n",
    "\n",
    "plt.figure(figsize=(18, 4))\n",
    "plt.suptitle('Co-mentions of cancer types and corona viruses in the articles.')\n",
    "\n",
    "cooccurrence_matrix = pd.crosstab(df['dis1Label'], df['dis2Label'])\n",
    "\n",
    "ax = sns.clustermap(cooccurrence_matrix, cmap='YlOrRd', alpha=0.8, dendrogram_ratio=(0.1, 0.1),\n",
    "               cbar_pos=(1, .55, .03, .3))\n",
    "ax.ax_heatmap.set_xlabel('coronaviruses')\n",
    "ax.ax_heatmap.set_ylabel('cancers')"
   ]
  },
  {
   "cell_type": "code",
   "execution_count": null,
   "metadata": {},
   "outputs": [],
   "source": []
  }
 ],
 "metadata": {
  "kernelspec": {
   "display_name": "Python 3",
   "language": "python",
   "name": "python3"
  },
  "language_info": {
   "codemirror_mode": {
    "name": "ipython",
    "version": 3
   },
   "file_extension": ".py",
   "mimetype": "text/x-python",
   "name": "python",
   "nbconvert_exporter": "python",
   "pygments_lexer": "ipython3",
   "version": "3.7.6"
  },
  "require": {
   "paths": {
    "buttons.colvis": "https://cdn.datatables.net/buttons/1.5.6/js/buttons.colVis.min",
    "buttons.flash": "https://cdn.datatables.net/buttons/1.5.6/js/buttons.flash.min",
    "buttons.html5": "https://cdn.datatables.net/buttons/1.5.6/js/buttons.html5.min",
    "buttons.print": "https://cdn.datatables.net/buttons/1.5.6/js/buttons.print.min",
    "chartjs": "https://cdnjs.cloudflare.com/ajax/libs/Chart.js/2.8.0/Chart",
    "d3": "https://d3js.org/d3.v5.min",
    "d3-array": "https://d3js.org/d3-array.v2.min",
    "datatables.net": "https://cdn.datatables.net/1.10.18/js/jquery.dataTables",
    "datatables.net-buttons": "https://cdn.datatables.net/buttons/1.5.6/js/dataTables.buttons.min",
    "datatables.responsive": "https://cdn.datatables.net/responsive/2.2.2/js/dataTables.responsive.min",
    "datatables.scroller": "https://cdn.datatables.net/scroller/2.0.0/js/dataTables.scroller.min",
    "datatables.select": "https://cdn.datatables.net/select/1.3.0/js/dataTables.select.min",
    "jszip": "https://cdnjs.cloudflare.com/ajax/libs/jszip/2.5.0/jszip.min",
    "moment": "https://cdnjs.cloudflare.com/ajax/libs/moment.js/2.8.0/moment",
    "pdfmake": "https://cdnjs.cloudflare.com/ajax/libs/pdfmake/0.1.36/pdfmake.min",
    "vfsfonts": "https://cdnjs.cloudflare.com/ajax/libs/pdfmake/0.1.36/vfs_fonts"
   },
   "shim": {
    "buttons.colvis": {
     "deps": [
      "jszip",
      "datatables.net-buttons"
     ]
    },
    "buttons.flash": {
     "deps": [
      "jszip",
      "datatables.net-buttons"
     ]
    },
    "buttons.html5": {
     "deps": [
      "jszip",
      "datatables.net-buttons"
     ]
    },
    "buttons.print": {
     "deps": [
      "jszip",
      "datatables.net-buttons"
     ]
    },
    "chartjs": {
     "deps": [
      "moment"
     ]
    },
    "datatables.net": {
     "exports": "$.fn.dataTable"
    },
    "datatables.net-buttons": {
     "deps": [
      "datatables.net"
     ]
    },
    "pdfmake": {
     "deps": [
      "datatables.net"
     ]
    },
    "vfsfonts": {
     "deps": [
      "datatables.net"
     ]
    }
   }
  }
 },
 "nbformat": 4,
 "nbformat_minor": 2
}
